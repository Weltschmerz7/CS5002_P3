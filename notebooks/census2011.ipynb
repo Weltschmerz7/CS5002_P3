{
 "cells": [
  {
   "cell_type": "markdown",
   "id": "super-suspension",
   "metadata": {
    "jp-MarkdownHeadingCollapsed": true
   },
   "source": [
    "**CS5002: Programming Principles and Practice**\n",
    "\n",
    "**Practical P3: Data analysis and visualisation Python**"
   ]
  },
  {
   "cell_type": "code",
   "execution_count": 1,
   "id": "beautiful-hormone",
   "metadata": {},
   "outputs": [],
   "source": [
    "import json\n",
    "import pandas as pd\n",
    "import numpy as np"
   ]
  },
  {
   "cell_type": "markdown",
   "id": "nominated-keeping",
   "metadata": {},
   "source": [
    "We start with exploring the content of the dataset."
   ]
  },
  {
   "cell_type": "code",
   "execution_count": 2,
   "id": "extra-carry",
   "metadata": {},
   "outputs": [],
   "source": [
    "df = pd.read_csv(\"../data/Scotland_teaching_file_1PCT.csv\")"
   ]
  },
  {
   "cell_type": "code",
   "execution_count": 3,
   "id": "graduate-ethiopia",
   "metadata": {},
   "outputs": [
    {
     "data": {
      "text/html": [
       "<div>\n",
       "<style scoped>\n",
       "    .dataframe tbody tr th:only-of-type {\n",
       "        vertical-align: middle;\n",
       "    }\n",
       "\n",
       "    .dataframe tbody tr th {\n",
       "        vertical-align: top;\n",
       "    }\n",
       "\n",
       "    .dataframe thead th {\n",
       "        text-align: right;\n",
       "    }\n",
       "</style>\n",
       "<table border=\"1\" class=\"dataframe\">\n",
       "  <thead>\n",
       "    <tr style=\"text-align: right;\">\n",
       "      <th></th>\n",
       "      <th>Record_Number</th>\n",
       "      <th>Region</th>\n",
       "      <th>RESIDENCE_TYPE</th>\n",
       "      <th>Family_Composition</th>\n",
       "      <th>sex</th>\n",
       "      <th>age</th>\n",
       "      <th>Marital_Status</th>\n",
       "      <th>student</th>\n",
       "      <th>Country_Of_Birth</th>\n",
       "      <th>health</th>\n",
       "      <th>Ethnic_Group</th>\n",
       "      <th>religion</th>\n",
       "      <th>Economic_Activity</th>\n",
       "      <th>Occupation</th>\n",
       "      <th>industry</th>\n",
       "      <th>Hours_Worked_Per_Week</th>\n",
       "      <th>Approximate_Social_Grade</th>\n",
       "    </tr>\n",
       "  </thead>\n",
       "  <tbody>\n",
       "    <tr>\n",
       "      <th>0</th>\n",
       "      <td>1</td>\n",
       "      <td>S92000003</td>\n",
       "      <td>P</td>\n",
       "      <td>1</td>\n",
       "      <td>1</td>\n",
       "      <td>4</td>\n",
       "      <td>2</td>\n",
       "      <td>2</td>\n",
       "      <td>2</td>\n",
       "      <td>2</td>\n",
       "      <td>1</td>\n",
       "      <td>5</td>\n",
       "      <td>1</td>\n",
       "      <td>5</td>\n",
       "      <td>5</td>\n",
       "      <td>4</td>\n",
       "      <td>3</td>\n",
       "    </tr>\n",
       "    <tr>\n",
       "      <th>1</th>\n",
       "      <td>2</td>\n",
       "      <td>S92000003</td>\n",
       "      <td>P</td>\n",
       "      <td>0</td>\n",
       "      <td>1</td>\n",
       "      <td>3</td>\n",
       "      <td>1</td>\n",
       "      <td>2</td>\n",
       "      <td>1</td>\n",
       "      <td>2</td>\n",
       "      <td>1</td>\n",
       "      <td>1</td>\n",
       "      <td>1</td>\n",
       "      <td>1</td>\n",
       "      <td>8</td>\n",
       "      <td>3</td>\n",
       "      <td>2</td>\n",
       "    </tr>\n",
       "    <tr>\n",
       "      <th>2</th>\n",
       "      <td>3</td>\n",
       "      <td>S92000003</td>\n",
       "      <td>P</td>\n",
       "      <td>1</td>\n",
       "      <td>2</td>\n",
       "      <td>4</td>\n",
       "      <td>2</td>\n",
       "      <td>2</td>\n",
       "      <td>1</td>\n",
       "      <td>3</td>\n",
       "      <td>1</td>\n",
       "      <td>1</td>\n",
       "      <td>1</td>\n",
       "      <td>4</td>\n",
       "      <td>8</td>\n",
       "      <td>2</td>\n",
       "      <td>4</td>\n",
       "    </tr>\n",
       "    <tr>\n",
       "      <th>3</th>\n",
       "      <td>4</td>\n",
       "      <td>S92000003</td>\n",
       "      <td>P</td>\n",
       "      <td>1</td>\n",
       "      <td>2</td>\n",
       "      <td>6</td>\n",
       "      <td>2</td>\n",
       "      <td>2</td>\n",
       "      <td>1</td>\n",
       "      <td>1</td>\n",
       "      <td>1</td>\n",
       "      <td>1</td>\n",
       "      <td>1</td>\n",
       "      <td>2</td>\n",
       "      <td>8</td>\n",
       "      <td>4</td>\n",
       "      <td>2</td>\n",
       "    </tr>\n",
       "    <tr>\n",
       "      <th>4</th>\n",
       "      <td>5</td>\n",
       "      <td>S92000003</td>\n",
       "      <td>P</td>\n",
       "      <td>4</td>\n",
       "      <td>2</td>\n",
       "      <td>4</td>\n",
       "      <td>4</td>\n",
       "      <td>2</td>\n",
       "      <td>1</td>\n",
       "      <td>2</td>\n",
       "      <td>1</td>\n",
       "      <td>1</td>\n",
       "      <td>1</td>\n",
       "      <td>3</td>\n",
       "      <td>11</td>\n",
       "      <td>3</td>\n",
       "      <td>2</td>\n",
       "    </tr>\n",
       "  </tbody>\n",
       "</table>\n",
       "</div>"
      ],
      "text/plain": [
       "   Record_Number     Region RESIDENCE_TYPE Family_Composition  sex  age  \\\n",
       "0              1  S92000003              P                  1    1    4   \n",
       "1              2  S92000003              P                  0    1    3   \n",
       "2              3  S92000003              P                  1    2    4   \n",
       "3              4  S92000003              P                  1    2    6   \n",
       "4              5  S92000003              P                  4    2    4   \n",
       "\n",
       "   Marital_Status  student  Country_Of_Birth  health  Ethnic_Group  religion  \\\n",
       "0               2        2                 2       2             1         5   \n",
       "1               1        2                 1       2             1         1   \n",
       "2               2        2                 1       3             1         1   \n",
       "3               2        2                 1       1             1         1   \n",
       "4               4        2                 1       2             1         1   \n",
       "\n",
       "  Economic_Activity Occupation industry Hours_Worked_Per_Week  \\\n",
       "0                 1          5        5                     4   \n",
       "1                 1          1        8                     3   \n",
       "2                 1          4        8                     2   \n",
       "3                 1          2        8                     4   \n",
       "4                 1          3       11                     3   \n",
       "\n",
       "  Approximate_Social_Grade  \n",
       "0                        3  \n",
       "1                        2  \n",
       "2                        4  \n",
       "3                        2  \n",
       "4                        2  "
      ]
     },
     "execution_count": 3,
     "metadata": {},
     "output_type": "execute_result"
    }
   ],
   "source": [
    "df.head()"
   ]
  },
  {
   "cell_type": "markdown",
   "id": "ec2ebd34-daea-47eb-aa72-914eb174c9fb",
   "metadata": {},
   "source": [
    "Next, we read the JSON file with the interpretations of categories."
   ]
  },
  {
   "cell_type": "code",
   "execution_count": 4,
   "id": "2455b3ef-fb85-45f4-80f2-3871170d9483",
   "metadata": {},
   "outputs": [],
   "source": [
    "with open(\"../data/data_dictionary.json\", \"r\") as read_file:\n",
    "    labels = json.load(read_file)"
   ]
  },
  {
   "cell_type": "code",
   "execution_count": 5,
   "id": "1643cf83-0ec7-4211-8381-50e0c80ad3b9",
   "metadata": {},
   "outputs": [
    {
     "data": {
      "text/plain": [
       "{'RESIDENCE_TYPE': {'C': 'Resident in a Communal Establishment',\n",
       "  'P': 'Not resident in a Communal Establishment'},\n",
       " 'Family_Composition': {'0': 'Not in a family',\n",
       "  '1': 'Married/same-sex civil partnership couple family',\n",
       "  '2': 'Cohabiting couple family',\n",
       "  '3': 'Lone parent family (male head)',\n",
       "  '4': 'Lone parent family (female lead)',\n",
       "  '5': 'Other related family',\n",
       "  'X': 'No code required (residents of a communal establishment)'},\n",
       " 'Sex': {'1': 'Male', '2': 'Female'},\n",
       " 'Age': {'1': '0 to 15',\n",
       "  '2': '16 to 24',\n",
       "  '3': '25 to 34',\n",
       "  '4': '35 to 44',\n",
       "  '5': '45 to 54',\n",
       "  '6': '55 to 64',\n",
       "  '7': '65 to 74',\n",
       "  '8': '75 and over'},\n",
       " 'Marital_Status': {}}"
      ]
     },
     "execution_count": 5,
     "metadata": {},
     "output_type": "execute_result"
    }
   ],
   "source": [
    "labels"
   ]
  },
  {
   "cell_type": "code",
   "execution_count": 6,
   "id": "e4ead3c9-da03-4d55-b4ff-e0ef3273643e",
   "metadata": {},
   "outputs": [
    {
     "data": {
      "text/plain": [
       "'Not in a family'"
      ]
     },
     "execution_count": 6,
     "metadata": {},
     "output_type": "execute_result"
    }
   ],
   "source": [
    "labels['Family_Composition']['0']"
   ]
  }
 ],
 "metadata": {
  "kernelspec": {
   "display_name": "venv",
   "language": "python",
   "name": "python3"
  },
  "language_info": {
   "codemirror_mode": {
    "name": "ipython",
    "version": 3
   },
   "file_extension": ".py",
   "mimetype": "text/x-python",
   "name": "python",
   "nbconvert_exporter": "python",
   "pygments_lexer": "ipython3",
   "version": "3.12.7"
  }
 },
 "nbformat": 4,
 "nbformat_minor": 5
}
