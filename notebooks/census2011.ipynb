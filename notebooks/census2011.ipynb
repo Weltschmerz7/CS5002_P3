{
 "cells": [
  {
   "cell_type": "markdown",
   "id": "super-suspension",
   "metadata": {
    "jp-MarkdownHeadingCollapsed": true
   },
   "source": [
    "**CS5002: Programming Principles and Practice**\n",
    "\n",
    "**Practical P3: Data analysis and visualisation Python**"
   ]
  },
  {
   "cell_type": "code",
   "execution_count": 1,
   "id": "beautiful-hormone",
   "metadata": {},
   "outputs": [],
   "source": [
    "import json\n",
    "import pandas as pd\n",
    "import numpy as np"
   ]
  },
  {
   "cell_type": "markdown",
   "id": "nominated-keeping",
   "metadata": {},
   "source": [
    "We start with exploring the content of the dataset."
   ]
  },
  {
   "cell_type": "code",
   "execution_count": 2,
   "id": "extra-carry",
   "metadata": {},
   "outputs": [],
   "source": [
    "df = pd.read_csv(\"../data/Scotland_teaching_file_1PCT.csv\")"
   ]
  },
  {
   "cell_type": "code",
   "execution_count": 9,
   "id": "graduate-ethiopia",
   "metadata": {},
   "outputs": [
    {
     "data": {
      "text/html": [
       "<div>\n",
       "<style scoped>\n",
       "    .dataframe tbody tr th:only-of-type {\n",
       "        vertical-align: middle;\n",
       "    }\n",
       "\n",
       "    .dataframe tbody tr th {\n",
       "        vertical-align: top;\n",
       "    }\n",
       "\n",
       "    .dataframe thead th {\n",
       "        text-align: right;\n",
       "    }\n",
       "</style>\n",
       "<table border=\"1\" class=\"dataframe\">\n",
       "  <thead>\n",
       "    <tr style=\"text-align: right;\">\n",
       "      <th></th>\n",
       "      <th>Record_Number</th>\n",
       "      <th>sex</th>\n",
       "      <th>age</th>\n",
       "      <th>Marital_Status</th>\n",
       "      <th>student</th>\n",
       "      <th>Country_Of_Birth</th>\n",
       "      <th>health</th>\n",
       "      <th>Ethnic_Group</th>\n",
       "      <th>religion</th>\n",
       "    </tr>\n",
       "  </thead>\n",
       "  <tbody>\n",
       "    <tr>\n",
       "      <th>count</th>\n",
       "      <td>63388.000000</td>\n",
       "      <td>63388.000000</td>\n",
       "      <td>63388.000000</td>\n",
       "      <td>63388.000000</td>\n",
       "      <td>63388.000000</td>\n",
       "      <td>63388.000000</td>\n",
       "      <td>63388.000000</td>\n",
       "      <td>63388.000000</td>\n",
       "      <td>63388.000000</td>\n",
       "    </tr>\n",
       "    <tr>\n",
       "      <th>mean</th>\n",
       "      <td>31694.500000</td>\n",
       "      <td>1.515807</td>\n",
       "      <td>4.092557</td>\n",
       "      <td>1.881224</td>\n",
       "      <td>1.810832</td>\n",
       "      <td>1.068515</td>\n",
       "      <td>1.717581</td>\n",
       "      <td>1.091595</td>\n",
       "      <td>2.203225</td>\n",
       "    </tr>\n",
       "    <tr>\n",
       "      <th>std</th>\n",
       "      <td>18298.683769</td>\n",
       "      <td>0.499754</td>\n",
       "      <td>2.203106</td>\n",
       "      <td>1.146424</td>\n",
       "      <td>0.391645</td>\n",
       "      <td>0.252629</td>\n",
       "      <td>0.926198</td>\n",
       "      <td>0.488468</td>\n",
       "      <td>2.016481</td>\n",
       "    </tr>\n",
       "    <tr>\n",
       "      <th>min</th>\n",
       "      <td>1.000000</td>\n",
       "      <td>1.000000</td>\n",
       "      <td>1.000000</td>\n",
       "      <td>1.000000</td>\n",
       "      <td>1.000000</td>\n",
       "      <td>1.000000</td>\n",
       "      <td>1.000000</td>\n",
       "      <td>1.000000</td>\n",
       "      <td>1.000000</td>\n",
       "    </tr>\n",
       "    <tr>\n",
       "      <th>25%</th>\n",
       "      <td>15847.750000</td>\n",
       "      <td>1.000000</td>\n",
       "      <td>2.000000</td>\n",
       "      <td>1.000000</td>\n",
       "      <td>2.000000</td>\n",
       "      <td>1.000000</td>\n",
       "      <td>1.000000</td>\n",
       "      <td>1.000000</td>\n",
       "      <td>1.000000</td>\n",
       "    </tr>\n",
       "    <tr>\n",
       "      <th>50%</th>\n",
       "      <td>31694.500000</td>\n",
       "      <td>2.000000</td>\n",
       "      <td>4.000000</td>\n",
       "      <td>2.000000</td>\n",
       "      <td>2.000000</td>\n",
       "      <td>1.000000</td>\n",
       "      <td>1.000000</td>\n",
       "      <td>1.000000</td>\n",
       "      <td>2.000000</td>\n",
       "    </tr>\n",
       "    <tr>\n",
       "      <th>75%</th>\n",
       "      <td>47541.250000</td>\n",
       "      <td>2.000000</td>\n",
       "      <td>6.000000</td>\n",
       "      <td>2.000000</td>\n",
       "      <td>2.000000</td>\n",
       "      <td>1.000000</td>\n",
       "      <td>2.000000</td>\n",
       "      <td>1.000000</td>\n",
       "      <td>2.000000</td>\n",
       "    </tr>\n",
       "    <tr>\n",
       "      <th>max</th>\n",
       "      <td>63388.000000</td>\n",
       "      <td>2.000000</td>\n",
       "      <td>8.000000</td>\n",
       "      <td>5.000000</td>\n",
       "      <td>2.000000</td>\n",
       "      <td>2.000000</td>\n",
       "      <td>5.000000</td>\n",
       "      <td>6.000000</td>\n",
       "      <td>9.000000</td>\n",
       "    </tr>\n",
       "  </tbody>\n",
       "</table>\n",
       "</div>"
      ],
      "text/plain": [
       "       Record_Number           sex           age  Marital_Status  \\\n",
       "count   63388.000000  63388.000000  63388.000000    63388.000000   \n",
       "mean    31694.500000      1.515807      4.092557        1.881224   \n",
       "std     18298.683769      0.499754      2.203106        1.146424   \n",
       "min         1.000000      1.000000      1.000000        1.000000   \n",
       "25%     15847.750000      1.000000      2.000000        1.000000   \n",
       "50%     31694.500000      2.000000      4.000000        2.000000   \n",
       "75%     47541.250000      2.000000      6.000000        2.000000   \n",
       "max     63388.000000      2.000000      8.000000        5.000000   \n",
       "\n",
       "            student  Country_Of_Birth        health  Ethnic_Group  \\\n",
       "count  63388.000000      63388.000000  63388.000000  63388.000000   \n",
       "mean       1.810832          1.068515      1.717581      1.091595   \n",
       "std        0.391645          0.252629      0.926198      0.488468   \n",
       "min        1.000000          1.000000      1.000000      1.000000   \n",
       "25%        2.000000          1.000000      1.000000      1.000000   \n",
       "50%        2.000000          1.000000      1.000000      1.000000   \n",
       "75%        2.000000          1.000000      2.000000      1.000000   \n",
       "max        2.000000          2.000000      5.000000      6.000000   \n",
       "\n",
       "           religion  \n",
       "count  63388.000000  \n",
       "mean       2.203225  \n",
       "std        2.016481  \n",
       "min        1.000000  \n",
       "25%        1.000000  \n",
       "50%        2.000000  \n",
       "75%        2.000000  \n",
       "max        9.000000  "
      ]
     },
     "execution_count": 9,
     "metadata": {},
     "output_type": "execute_result"
    }
   ],
   "source": [
    "df.describe()"
   ]
  },
  {
   "cell_type": "markdown",
   "id": "ec2ebd34-daea-47eb-aa72-914eb174c9fb",
   "metadata": {},
   "source": [
    "Next, we read the JSON file with the interpretations of categories."
   ]
  },
  {
   "cell_type": "code",
   "execution_count": 10,
   "id": "2455b3ef-fb85-45f4-80f2-3871170d9483",
   "metadata": {},
   "outputs": [],
   "source": [
    "with open(\"../data/data_dictionary.json\", \"r\") as read_file:\n",
    "    labels = json.load(read_file)"
   ]
  },
  {
   "cell_type": "code",
   "execution_count": 11,
   "id": "1643cf83-0ec7-4211-8381-50e0c80ad3b9",
   "metadata": {},
   "outputs": [
    {
     "data": {
      "text/plain": [
       "{'RESIDENCE_TYPE': {'C': 'Resident in a Communal Establishment',\n",
       "  'P': 'Not resident in a Communal Establishment'},\n",
       " 'Family_Composition': {'0': 'Not in a family',\n",
       "  '1': 'Married/same-sex civil partnership couple family',\n",
       "  '2': 'Cohabiting couple family',\n",
       "  '3': 'Lone parent family (male head)',\n",
       "  '4': 'Lone parent family (female lead)',\n",
       "  '5': 'Other related family',\n",
       "  'X': 'No code required (residents of a communal establishment)'},\n",
       " 'Sex': {'1': 'Male', '2': 'Female'},\n",
       " 'Age': {'1': '0 to 15',\n",
       "  '2': '16 to 24',\n",
       "  '3': '25 to 34',\n",
       "  '4': '35 to 44',\n",
       "  '5': '45 to 54',\n",
       "  '6': '55 to 64',\n",
       "  '7': '65 to 74',\n",
       "  '8': '75 and over'},\n",
       " 'Marital_Status': {}}"
      ]
     },
     "execution_count": 11,
     "metadata": {},
     "output_type": "execute_result"
    }
   ],
   "source": [
    "labels"
   ]
  },
  {
   "cell_type": "code",
   "execution_count": 12,
   "id": "e4ead3c9-da03-4d55-b4ff-e0ef3273643e",
   "metadata": {},
   "outputs": [
    {
     "data": {
      "text/plain": [
       "'Not in a family'"
      ]
     },
     "execution_count": 12,
     "metadata": {},
     "output_type": "execute_result"
    }
   ],
   "source": [
    "labels['Family_Composition']['0']"
   ]
  },
  {
   "cell_type": "code",
   "execution_count": null,
   "id": "956de76a",
   "metadata": {},
   "outputs": [],
   "source": []
  },
  {
   "cell_type": "code",
   "execution_count": null,
   "id": "e7d23c11",
   "metadata": {},
   "outputs": [],
   "source": []
  }
 ],
 "metadata": {
  "kernelspec": {
   "display_name": "venv",
   "language": "python",
   "name": "python3"
  },
  "language_info": {
   "codemirror_mode": {
    "name": "ipython",
    "version": 3
   },
   "file_extension": ".py",
   "mimetype": "text/x-python",
   "name": "python",
   "nbconvert_exporter": "python",
   "pygments_lexer": "ipython3",
   "version": "3.12.7"
  }
 },
 "nbformat": 4,
 "nbformat_minor": 5
}
