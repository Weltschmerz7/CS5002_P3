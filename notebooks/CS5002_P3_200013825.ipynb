{
 "cells": [
  {
   "cell_type": "markdown",
   "id": "super-suspension",
   "metadata": {
    "jp-MarkdownHeadingCollapsed": true
   },
   "source": [
    "<div style=\"display: flex; justify-content: space-between; align-items: center; padding: 10 px;\">\n",
    "    <h2 style=\"margin: 0 0 20px; color: #FFFFFF; line-height: 1\">CS5002: Programming Principles and Practice</h2>\n",
    "    <img src=\"../rsc/logo.png\" alt=\"University Logo\" style=\"width: 80px; height: auto;\"/>\n",
    "</div>\n",
    "                                  <!--  -->\n",
    "<div style=\"display: flex; justify-content: space-between; width: 100%;\">\n",
    "  <span style=\"text-align: left;\">Practical P3: Data analysis and visualisation Python</span>\n",
    "  <span style=\"text-align: right; font-size: 12px;\">Student ID: 200013825</span>\n",
    "</div> \n"
   ]
  },
  {
   "cell_type": "markdown",
   "id": "5d440feb",
   "metadata": {},
   "source": [
    "#### Introduction \n"
   ]
  },
  {
   "cell_type": "code",
   "execution_count": null,
   "id": "499c4068",
   "metadata": {},
   "outputs": [],
   "source": []
  },
  {
   "cell_type": "markdown",
   "id": "4448bcd7",
   "metadata": {},
   "source": [
    "#### Problem Encountered\n"
   ]
  },
  {
   "cell_type": "code",
   "execution_count": null,
   "id": "beautiful-hormone",
   "metadata": {},
   "outputs": [],
   "source": [
    "import json\n",
    "import pandas as pd"
   ]
  },
  {
   "cell_type": "markdown",
   "id": "nominated-keeping",
   "metadata": {},
   "source": [
    "We start with exploring the content of the dataset."
   ]
  },
  {
   "cell_type": "code",
   "execution_count": null,
   "id": "extra-carry",
   "metadata": {},
   "outputs": [],
   "source": [
    "df = pd.read_csv(\"data/Scotland_teaching_file_1PCT.csv\")"
   ]
  },
  {
   "cell_type": "code",
   "execution_count": null,
   "id": "graduate-ethiopia",
   "metadata": {},
   "outputs": [
    {
     "data": {
      "text/plain": [
       "   Record_Number     Region  ... Hours_Worked_Per_Week Approximate_Social_Grade\n",
       "0              1  S92000003  ...                     4                        3\n",
       "1              2  S92000003  ...                     3                        2\n",
       "2              3  S92000003  ...                     2                        4\n",
       "3              4  S92000003  ...                     4                        2\n",
       "4              5  S92000003  ...                     3                        2\n",
       "\n",
       "[5 rows x 17 columns]\n"
      ]
     },
     "metadata": {},
     "output_type": "display_data"
    }
   ],
   "source": [
    "df.head()"
   ]
  },
  {
   "cell_type": "code",
   "execution_count": null,
   "id": "490442e4",
   "metadata": {},
   "outputs": [
    {
     "data": {
      "text/plain": [
       "Record_Number                int64\n",
       "Region                      object\n",
       "RESIDENCE_TYPE              object\n",
       "Family_Composition          object\n",
       "sex                          int64\n",
       "age                          int64\n",
       "Marital_Status               int64\n",
       "student                      int64\n",
       "Country_Of_Birth             int64\n",
       "health                       int64\n",
       "Ethnic_Group                 int64\n",
       "religion                     int64\n",
       "Economic_Activity           object\n",
       "Occupation                  object\n",
       "industry                    object\n",
       "Hours_Worked_Per_Week       object\n",
       "Approximate_Social_Grade    object\n",
       "dtype: object\n"
      ]
     },
     "metadata": {},
     "output_type": "display_data"
    }
   ],
   "source": [
    "df.dtypes"
   ]
  },
  {
   "cell_type": "markdown",
   "id": "ec2ebd34-daea-47eb-aa72-914eb174c9fb",
   "metadata": {},
   "source": [
    "Next, we read the JSON file with the interpretations of categories."
   ]
  },
  {
   "cell_type": "code",
   "execution_count": null,
   "id": "2455b3ef-fb85-45f4-80f2-3871170d9483",
   "metadata": {},
   "outputs": [
    {
     "data": {
      "text/plain": [
       "Traceback (most recent call last):\n",
       "  File \"/Users/weltschmerz/.vscode/extensions/ms-python.python-2024.20.0-darwin-arm64/python_files/python_server.py\", line 130, in exec_user_input\n",
       "    retval = callable_(user_input, user_globals)\n",
       "             ^^^^^^^^^^^^^^^^^^^^^^^^^^^^^^^^^^^\n",
       "  File \"<string>\", line 1, in <module>\n",
       "FileNotFoundError: [Errno 2] No such file or directory: '../data/data_dictionary.json'\n",
       "\n"
      ]
     },
     "metadata": {},
     "output_type": "display_data"
    }
   ],
   "source": [
    "with open(\"../data/data_dictionary.json\", \"r\") as read_file:\n",
    "    labels = json.load(read_file)\n",
    "\n",
    "labels "
   ]
  }
 ],
 "metadata": {
  "kernelspec": {
   "display_name": "venv",
   "language": "python",
   "name": "python3"
  },
  "language_info": {
   "codemirror_mode": {
    "name": "ipython",
    "version": 3
   },
   "file_extension": ".py",
   "mimetype": "text/x-python",
   "name": "python",
   "nbconvert_exporter": "python",
   "pygments_lexer": "ipython3",
   "version": "3.12.7"
  }
 },
 "nbformat": 4,
 "nbformat_minor": 5
}
