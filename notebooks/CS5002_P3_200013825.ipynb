{
 "cells": [
  {
   "cell_type": "markdown",
   "id": "super-suspension",
   "metadata": {},
   "source": [
    "<div style=\"display: flex; justify-content: space-between; align-items: center; padding: 10 px;\">\n",
    "    <h3 style=\"margin: 0 0 20px; color: #FFFFFF; line-height: 1\"> CS5002: Programming Principles and Practice</h3>\n",
    "    <img src=\"../rsc/logo.png\" alt=\"University Logo\" style=\"width: 80px; height: auto;\"/>\n",
    "</div>\n",
    "                                  <!--  -->\n",
    "<div style=\"display: flex; justify-content: space-between; width: 100%;\">\n",
    "  <span style=\"text-align: left;\">Practical P3: Data analysis and visualisation Python</span>\n",
    "  <span style=\"text-align: right; font-size: 12px;\">Student ID: 200013825</span>\n",
    "</div> \n"
   ]
  },
  {
   "cell_type": "markdown",
   "id": "5d440feb",
   "metadata": {},
   "source": [
    "### Introduction \n",
    "This project aims to modularly read, clean and analyze real-world csv data. Below is the introduction on all the modules and major functions that worked together to complete data analysis.\n",
    "\n",
    "`data_mining.py`: This executable python \n",
    "script automates data cleaning process, I used \n",
    "```python\n",
    "invalid_mask = ~data[column].isin(valid_set)\n",
    "```\n",
    "to collect a list of booleans, indicating whether each csv code is admissible. \n",
    "\n",
    "Based on the context of this dataset, it is more efficient to neglect the type of the data when checking consistency, and then convert all data into pandas' categorical type. \n",
    "``` python\n",
    "data[column] = data[column].astype(str)\n",
    "```\n",
    "I have converted all column in the data as string to help the determination of admissible values, and checked for missing columns or values, so then if encountered with any missing value, the row will be dropped.\n",
    "\n",
    "To decode the csv data and to give context to the later stages of data analysis, i incorprated the data mapping at the stage of data_mining, so that the **cleaned_data.csv** contains all the code derived from json, with all the data being cleaned. I achieved this step by creating a helper function called **map_data** which takes the data to map as well as the json that was loaded in the **clean_data** function, and use **.map()** to map the data based on json if the column name match wth the json dictionary keys. Below is the logic to map data\n",
    "```python\n",
    "for column in data_to_map.columns:\n",
    "        if column in decode_helper:\n",
    "            data_to_map[column] = data_to_map[column].map(decode_helper[column])\n",
    "```\n",
    "\n",
    "`data_analysis.py`: This module contains function **analyze_data** and compute all the required analysis, then store all output from different requirements as a big dictionaries of dictionaires. This makes the overall workflow modular and clean with minimal repetition. One drawback would be the fact that all the analysis is hard-coded in, and reusability is diminished from this specific feature.\n",
    "\n",
    "There are in total of 12 required data analysis, in the **data_analysis.py**, i have set them as requirements 1-12, and used pandas to analyze. A few analysis will be illustrated below. \n",
    "\n",
    "1. To get the percentage of records for any column, i used:\n",
    "```python\n",
    "column_counts = data['col_name'].value_counts(normalize=True) * 100\n",
    "# then append the result to the big collective dictionary\n",
    "results['requirement n name'] = column_counts.round(2).to_dict()\n",
    "```\n",
    "2. To group two columns together, i used:\n",
    "```python\n",
    "results['requirement n name'] = (data.groupby(['col_1', 'col_2']).size().to_dict())\n",
    "```\n",
    "As shown above, i collect each reqired results and have stored them in one dictionary called results. This helps with further processing and storing, as dictionary can centralize calculated results, and it can store a diverse range of data types.\n",
    "\n",
    "\n"
   ]
  },
  {
   "cell_type": "markdown",
   "id": "4448bcd7",
   "metadata": {},
   "source": [
    "### Problem Encountered\n",
    "\n",
    "##### __1. infinite commit loop__: \n",
    "When I was trying to set up hooks for git to automatically update the gitlog everytime after commit, i accidently created an infinite loop of git commit, below was what I have included in the post-commit* file in .git/hooks:\n",
    "\n",
    "``` python\n",
    "#!/bin/bash\n",
    "git log --oneline  --graph  > gitlog.txt\n",
    "git commit -m 'gitlog.txt is updated with the latest commit history'\n",
    "```\n",
    "and this created redundant git log histroy that are shown in the gitlog.txt\n",
    "\n",
    "I fixed it by deleting the line to commit within post-commit, after i realized that adding commit within post-commit can trigger recursive calls.\n",
    "\n",
    "##### __2. system path append__: \n",
    "When I was trying to append certain relavant path to the sys path in order for jupyter notebook to read the file, i added the file path to sys path. After I print sys.path to check, i saw multiple paths being appended in the system paths, in order to clean this, i imported `site` which is a package that can help clear all custom paths and only keep the default path. I then used \n",
    "```python\n",
    "sys.path = list(site.getsitepackages()) + sys.path [:1]\n",
    "```\n",
    "to implement this strategy. \n",
    "After clearing the system path, i appended the relative path using sys.path.append, and successfully imported the modules from **code** folder. As shown below.\n",
    "```python\n",
    "sys.path.append('./code')\n",
    "```\n",
    "Certain compiled python file was created to help faster import, and such files were added to .gitignore to prevent unncessary commiting and pushing because **\\__pycache__\\** will be created everytime the imported modules are ran.\n",
    "\n",
    "##### __4. html header editing__: \n",
    "When i was trying to create proffesional looking header using html, it worked perfectly in vscode like so:\n",
    "***\n",
    "![Image](../rsc/Jupyter_heading.png)\n",
    "***\n",
    "But when i viewed it in jupyter notebook via jupyter, it did not look that aligned as shown below: \n",
    "***\n",
    "![Image](../rsc/Jupyter_heading_notgood.png)\n",
    "***\n",
    "\n"
   ]
  },
  {
   "cell_type": "markdown",
   "id": "379267e3",
   "metadata": {},
   "source": [
    "### Project showcase"
   ]
  },
  {
   "cell_type": "markdown",
   "id": "7071106c",
   "metadata": {},
   "source": [
    "**First set up the neccessary dependencies for the project**"
   ]
  },
  {
   "cell_type": "code",
   "execution_count": 3,
   "id": "beautiful-hormone",
   "metadata": {},
   "outputs": [
    {
     "name": "stdout",
     "output_type": "stream",
     "text": [
      "Data has been analyzed and a dictionary with \n",
      " dict_keys(['total_record', 'data_types', 'value_counts', 'age_count', 'occupation_counts', 'health_percentages', 'ethnic_group_percentages', 'hours_worked_by_industry', 'occupation_by_social_grade', 'economically_active_by_age', 'economically_inactive_by_health', 'working_hours_for_students']) \n",
      " columns have been created ans stored! \n"
     ]
    }
   ],
   "source": [
    "import sys\n",
    "import pandas as pd\n",
    "import matplotlib.pyplot as plt\n",
    "sys.path.append('../code')\n",
    "from data_analysis import analyze_csv\n",
    "from data_visualization import dict_to_df\n",
    "\n",
    "# results_dict is the dictionary that the analyze_data function returns\n",
    "resutlts_dict = analyze_csv()"
   ]
  },
  {
   "cell_type": "markdown",
   "id": "40da94f6",
   "metadata": {},
   "source": [
    "### **Basic Requirement**\n",
    "**1: the total number of records in the dataset**"
   ]
  },
  {
   "cell_type": "code",
   "execution_count": 4,
   "id": "94dec630",
   "metadata": {},
   "outputs": [
    {
     "data": {
      "text/plain": [
       "63388"
      ]
     },
     "execution_count": 4,
     "metadata": {},
     "output_type": "execute_result"
    }
   ],
   "source": [
    "resutlts_dict['total_record']"
   ]
  },
  {
   "cell_type": "markdown",
   "id": "545f51cc",
   "metadata": {},
   "source": [
    "**2: the type of each variable in the dataset**"
   ]
  },
  {
   "cell_type": "code",
   "execution_count": 5,
   "id": "db8171f3",
   "metadata": {},
   "outputs": [
    {
     "data": {
      "text/plain": [
       "{'record_number': dtype('int64'),\n",
       " 'region': dtype('O'),\n",
       " 'residence_type': dtype('O'),\n",
       " 'family_composition': dtype('O'),\n",
       " 'sex': dtype('O'),\n",
       " 'age': dtype('O'),\n",
       " 'marital_status': dtype('O'),\n",
       " 'student': dtype('O'),\n",
       " 'country_of_birth': dtype('O'),\n",
       " 'health': dtype('O'),\n",
       " 'ethnic_group': dtype('O'),\n",
       " 'religion': dtype('O'),\n",
       " 'economic_activity': dtype('O'),\n",
       " 'occupation': dtype('O'),\n",
       " 'industry': dtype('O'),\n",
       " 'hours_worked_per_week': dtype('O'),\n",
       " 'approximate_social_grade': dtype('O')}"
      ]
     },
     "execution_count": 5,
     "metadata": {},
     "output_type": "execute_result"
    }
   ],
   "source": [
    "resutlts_dict['data_types']"
   ]
  },
  {
   "cell_type": "markdown",
   "id": "b6e26a0f",
   "metadata": {},
   "source": [
    "**3: Value counts of the dataset except 'record_number' and 'region'**"
   ]
  },
  {
   "cell_type": "code",
   "execution_count": 6,
   "id": "951704d6",
   "metadata": {},
   "outputs": [
    {
     "data": {
      "text/plain": [
       "{'residence_type': {'Not resident in a Communal Establishment': 62239,\n",
       "  'Resident in a Communal Establishment': 1149},\n",
       " 'family_composition': {'Married/same-sex civil partnership couple family': 33337,\n",
       "  'Not in a family': 11716,\n",
       "  'Lone parent family (female lead)': 7757,\n",
       "  'Cohabiting couple family': 7660,\n",
       "  'residents of a communal establishment': 1149,\n",
       "  'Lone parent family (male head)': 1019,\n",
       "  'Other related family': 750},\n",
       " 'sex': {'Female': 32696, 'Male': 30692},\n",
       " 'age': {'0 to 15': 10980,\n",
       "  '45 to 54': 9336,\n",
       "  '35 to 44': 8963,\n",
       "  '25 to 34': 8056,\n",
       "  '55 to 64': 7854,\n",
       "  '16 to 24': 7541,\n",
       "  '65 to 74': 5731,\n",
       "  '75 and over': 4927},\n",
       " 'marital_status': {'Single (Never married or never registered a same-sex civil partnership': 29611,\n",
       "  'Married or in a same sex-civil partnership': 23918,\n",
       "  'Divorced or formerly in a same-sex civil partnership which is now legally dissolved': 4159,\n",
       "  'Widowed or surviving partner from a same-sex civil partnership': 4032,\n",
       "  'Separated, but still legally married or still legally in a same-sex civil partnership': 1668},\n",
       " 'student': {'No': 51397, 'Yes': 11991},\n",
       " 'country_of_birth': {'UK': 59045, 'Non UK': 4343},\n",
       " 'health': {'Very good health': 33436,\n",
       "  'Good health': 18825,\n",
       "  'Fair health': 7544,\n",
       "  'Bad health': 2759,\n",
       "  'Very bad health': 824},\n",
       " 'ethnic_group': {'White': 60901,\n",
       "  'Asian': 1667,\n",
       "  'African': 376,\n",
       "  'Mixed or multiple ethnic group': 199,\n",
       "  'Other ethnic group': 165,\n",
       "  'Caribbean or black': 80},\n",
       " 'religion': {'Christian': 34199,\n",
       "  'No religion': 23309,\n",
       "  'Not stated': 4335,\n",
       "  'Muslim': 906,\n",
       "  'Hindu': 187,\n",
       "  'Other religion': 162,\n",
       "  'Sikh': 116,\n",
       "  'Buddhist': 113,\n",
       "  'Jewish': 61},\n",
       " 'economic_activity': {'Economically active: Employed': 25350,\n",
       "  'Economically inactive: Retired': 11527,\n",
       "  'Aged under 16': 10980,\n",
       "  'Economically active: Self-Employed': 3623,\n",
       "  'Economically inactive: Student': 2691,\n",
       "  'Economically inactive: Long-term sick or disabled': 2543,\n",
       "  'Economically active: Unemployed': 2183,\n",
       "  'Economically active: Full-time student': 1743,\n",
       "  'Economically inactive: Looking after home or family': 1741,\n",
       "  'Economically inactive: Other': 1007},\n",
       " 'occupation': {'People aged under 16 and people who have never worked': 14435,\n",
       "  'Elementary Occupations': 7256,\n",
       "  'Professional Occupations': 7237,\n",
       "  'Skilled Trades Occupations': 6140,\n",
       "  'Administrative and Secretarial Occupations': 6010,\n",
       "  'Associate Professional and Technical Occupations': 5015,\n",
       "  'Sales and Customer Service Occupations': 4934,\n",
       "  'Caring, Leisure and Other Service Occupations': 4484,\n",
       "  'Process, Plant and Machine Operatives': 4327,\n",
       "  'Managers, Directors and Senior Officials': 3550},\n",
       " 'industry': {'People aged under 16 and people who have never worked': 14435,\n",
       "  'Wholesale and retail trade; Repair of motor vehicles and motorcycles': 7557,\n",
       "  'Human health and social work activities': 6817,\n",
       "  'Mining and quarrying; Manufacturing; Electricity, gas, steam and air conditioning system; Water supply': 6318,\n",
       "  'Real estate activities; Professional scientific and technical activities; Administrative and support service activities': 4818,\n",
       "  'Education': 4123,\n",
       "  'Construction': 3876,\n",
       "  'Transport and storage; Information and communication': 3754,\n",
       "  'Accommodation and food service activities': 3309,\n",
       "  'Public administration and defence': 3225,\n",
       "  'Financial and insurance activities': 1979,\n",
       "  'Other': 1172,\n",
       "  'Arts; entertainment and recreation': 1107,\n",
       "  'Agriculture, forestry and fishing': 898},\n",
       " 'hours_worked_per_week': {'People aged under 16 and people not working': 32851,\n",
       "  'Full-time: 31 to 48 hours worked': 18333,\n",
       "  'Part-time: 16 to 30 hours worked': 6518,\n",
       "  'Full-time 49 or more hours worked': 3543,\n",
       "  'Part-time: 15 or less hours worked': 2143},\n",
       " 'approximate_social_grade': {'C1': 15607,\n",
       "  'DE': 14709,\n",
       "  'People aged under 16 and people resident in communal establishments': 12090,\n",
       "  'C2': 11602,\n",
       "  'AB': 9380}}"
      ]
     },
     "execution_count": 6,
     "metadata": {},
     "output_type": "execute_result"
    }
   ],
   "source": [
    "resutlts_dict['value_counts']"
   ]
  },
  {
   "cell_type": "markdown",
   "id": "84114694",
   "metadata": {},
   "source": [
    "**4: bar chart for the number of records for each age group**"
   ]
  },
  {
   "cell_type": "code",
   "execution_count": 7,
   "id": "f6d4e6be",
   "metadata": {},
   "outputs": [
    {
     "data": {
      "text/plain": [
       "{'0 to 15': 10980,\n",
       " '45 to 54': 9336,\n",
       " '35 to 44': 8963,\n",
       " '25 to 34': 8056,\n",
       " '55 to 64': 7854,\n",
       " '16 to 24': 7541,\n",
       " '65 to 74': 5731,\n",
       " '75 and over': 4927}"
      ]
     },
     "execution_count": 7,
     "metadata": {},
     "output_type": "execute_result"
    }
   ],
   "source": [
    "resutlts_dict['age_count']\n"
   ]
  },
  {
   "cell_type": "markdown",
   "id": "2de93797",
   "metadata": {},
   "source": [
    "**5: bar chart for the number of records for each occupation**"
   ]
  },
  {
   "cell_type": "code",
   "execution_count": 8,
   "id": "60271a35",
   "metadata": {},
   "outputs": [
    {
     "data": {
      "text/plain": [
       "{'People aged under 16 and people who have never worked': 14435,\n",
       " 'Elementary Occupations': 7256,\n",
       " 'Professional Occupations': 7237,\n",
       " 'Skilled Trades Occupations': 6140,\n",
       " 'Administrative and Secretarial Occupations': 6010,\n",
       " 'Associate Professional and Technical Occupations': 5015,\n",
       " 'Sales and Customer Service Occupations': 4934,\n",
       " 'Caring, Leisure and Other Service Occupations': 4484,\n",
       " 'Process, Plant and Machine Operatives': 4327,\n",
       " 'Managers, Directors and Senior Officials': 3550}"
      ]
     },
     "execution_count": 8,
     "metadata": {},
     "output_type": "execute_result"
    }
   ],
   "source": [
    "resutlts_dict['occupation_counts']"
   ]
  },
  {
   "cell_type": "markdown",
   "id": "625e74c8",
   "metadata": {},
   "source": [
    "### **Additional Requirements**"
   ]
  },
  {
   "cell_type": "markdown",
   "id": "9e0a5e8d",
   "metadata": {},
   "source": [
    "**6: pie chart for the percentage of records for each general health descriptor**"
   ]
  },
  {
   "cell_type": "code",
   "execution_count": 9,
   "id": "9e02412c",
   "metadata": {},
   "outputs": [
    {
     "data": {
      "text/plain": [
       "{'Very good health': 52.75,\n",
       " 'Good health': 29.7,\n",
       " 'Fair health': 11.9,\n",
       " 'Bad health': 4.35,\n",
       " 'Very bad health': 1.3}"
      ]
     },
     "execution_count": 9,
     "metadata": {},
     "output_type": "execute_result"
    }
   ],
   "source": [
    "resutlts_dict['health_percentages']"
   ]
  },
  {
   "cell_type": "markdown",
   "id": "6e05e1bf",
   "metadata": {},
   "source": [
    "**7: pie chart for the percentage of records for each ethnic group**"
   ]
  },
  {
   "cell_type": "code",
   "execution_count": 10,
   "id": "e30ebe3f",
   "metadata": {},
   "outputs": [
    {
     "data": {
      "text/plain": [
       "{'White': 96.08,\n",
       " 'Asian': 2.63,\n",
       " 'African': 0.59,\n",
       " 'Mixed or multiple ethnic group': 0.31,\n",
       " 'Other ethnic group': 0.26,\n",
       " 'Caribbean or black': 0.13}"
      ]
     },
     "execution_count": 10,
     "metadata": {},
     "output_type": "execute_result"
    }
   ],
   "source": [
    "resutlts_dict['ethnic_group_percentages']"
   ]
  },
  {
   "cell_type": "markdown",
   "id": "7968baa6",
   "metadata": {},
   "source": [
    "**8: showcase the number of records by hours worked per week and industry**\n"
   ]
  },
  {
   "cell_type": "code",
   "execution_count": null,
   "id": "4de7e702",
   "metadata": {},
   "outputs": [
    {
     "data": {
      "text/html": [
       "<div>\n",
       "<style scoped>\n",
       "    .dataframe tbody tr th:only-of-type {\n",
       "        vertical-align: middle;\n",
       "    }\n",
       "\n",
       "    .dataframe tbody tr th {\n",
       "        vertical-align: top;\n",
       "    }\n",
       "\n",
       "    .dataframe thead th {\n",
       "        text-align: right;\n",
       "    }\n",
       "</style>\n",
       "<table border=\"1\" class=\"dataframe\">\n",
       "  <thead>\n",
       "    <tr style=\"text-align: right;\">\n",
       "      <th></th>\n",
       "      <th>count</th>\n",
       "      <th>hours_worked_per_week</th>\n",
       "      <th>industry</th>\n",
       "    </tr>\n",
       "  </thead>\n",
       "  <tbody>\n",
       "    <tr>\n",
       "      <th>0</th>\n",
       "      <td>230</td>\n",
       "      <td>Full-time 49 or more hours worked</td>\n",
       "      <td>Accommodation and food service activities</td>\n",
       "    </tr>\n",
       "    <tr>\n",
       "      <th>1</th>\n",
       "      <td>258</td>\n",
       "      <td>Full-time 49 or more hours worked</td>\n",
       "      <td>Agriculture, forestry and fishing</td>\n",
       "    </tr>\n",
       "    <tr>\n",
       "      <th>2</th>\n",
       "      <td>57</td>\n",
       "      <td>Full-time 49 or more hours worked</td>\n",
       "      <td>Arts; entertainment and recreation</td>\n",
       "    </tr>\n",
       "    <tr>\n",
       "      <th>3</th>\n",
       "      <td>427</td>\n",
       "      <td>Full-time 49 or more hours worked</td>\n",
       "      <td>Construction</td>\n",
       "    </tr>\n",
       "    <tr>\n",
       "      <th>4</th>\n",
       "      <td>253</td>\n",
       "      <td>Full-time 49 or more hours worked</td>\n",
       "      <td>Education</td>\n",
       "    </tr>\n",
       "    <tr>\n",
       "      <th>...</th>\n",
       "      <td>...</td>\n",
       "      <td>...</td>\n",
       "      <td>...</td>\n",
       "    </tr>\n",
       "    <tr>\n",
       "      <th>61</th>\n",
       "      <td>14435</td>\n",
       "      <td>People aged under 16 and people not working</td>\n",
       "      <td>People aged under 16 and people who have never...</td>\n",
       "    </tr>\n",
       "    <tr>\n",
       "      <th>62</th>\n",
       "      <td>1116</td>\n",
       "      <td>People aged under 16 and people not working</td>\n",
       "      <td>Public administration and defence</td>\n",
       "    </tr>\n",
       "    <tr>\n",
       "      <th>63</th>\n",
       "      <td>1588</td>\n",
       "      <td>People aged under 16 and people not working</td>\n",
       "      <td>Real estate activities; Professional scientifi...</td>\n",
       "    </tr>\n",
       "    <tr>\n",
       "      <th>64</th>\n",
       "      <td>1324</td>\n",
       "      <td>People aged under 16 and people not working</td>\n",
       "      <td>Transport and storage; Information and communi...</td>\n",
       "    </tr>\n",
       "    <tr>\n",
       "      <th>65</th>\n",
       "      <td>2954</td>\n",
       "      <td>People aged under 16 and people not working</td>\n",
       "      <td>Wholesale and retail trade; Repair of motor ve...</td>\n",
       "    </tr>\n",
       "  </tbody>\n",
       "</table>\n",
       "<p>66 rows × 3 columns</p>\n",
       "</div>"
      ],
      "text/plain": [
       "    count                        hours_worked_per_week  \\\n",
       "0     230            Full-time 49 or more hours worked   \n",
       "1     258            Full-time 49 or more hours worked   \n",
       "2      57            Full-time 49 or more hours worked   \n",
       "3     427            Full-time 49 or more hours worked   \n",
       "4     253            Full-time 49 or more hours worked   \n",
       "..    ...                                          ...   \n",
       "61  14435  People aged under 16 and people not working   \n",
       "62   1116  People aged under 16 and people not working   \n",
       "63   1588  People aged under 16 and people not working   \n",
       "64   1324  People aged under 16 and people not working   \n",
       "65   2954  People aged under 16 and people not working   \n",
       "\n",
       "                                             industry  \n",
       "0           Accommodation and food service activities  \n",
       "1                   Agriculture, forestry and fishing  \n",
       "2                  Arts; entertainment and recreation  \n",
       "3                                        Construction  \n",
       "4                                           Education  \n",
       "..                                                ...  \n",
       "61  People aged under 16 and people who have never...  \n",
       "62                  Public administration and defence  \n",
       "63  Real estate activities; Professional scientifi...  \n",
       "64  Transport and storage; Information and communi...  \n",
       "65  Wholesale and retail trade; Repair of motor ve...  \n",
       "\n",
       "[66 rows x 3 columns]"
      ]
     },
     "execution_count": 13,
     "metadata": {},
     "output_type": "execute_result"
    }
   ],
   "source": [
    "Q3_dict = resutlts_dict['hours_worked_by_industry']\n",
    "\n",
    "# transform the dictionary to dataframe for better readability\n",
    "results_df = pd.DataFrame.from_dict(Q3_dict, orient = 'index',columns = ['count'])\n",
    "# reset the index and split the tuple keys into separate columns\n",
    "results_df.reset_index(inplace=True)\n",
    "results_df[['hours_worked_per_week', 'industry']] = pd.DataFrame(results_df['index'].tolist(), index=results_df.index)\n",
    "results_df.drop(columns='index',inplace=True)\n",
    "results_df\n",
    "\n",
    "# results_df = dict_to_df(Q3_dict, col_names = ['hours_worked_per_week','industry','count'])\n",
    "# results_df"
   ]
  },
  {
   "cell_type": "markdown",
   "id": "1480b5c5",
   "metadata": {},
   "source": [
    "**3: showcasing the number of records by occupation and approximate social grade**"
   ]
  },
  {
   "cell_type": "markdown",
   "id": "16f5bc1e",
   "metadata": {},
   "source": [
    "**n : the number of economically active people depending on age**"
   ]
  },
  {
   "cell_type": "markdown",
   "id": "dfadc7ee",
   "metadata": {},
   "source": [
    "**3: the number of economically inactive people depending on a health descriptor**"
   ]
  },
  {
   "cell_type": "markdown",
   "id": "d7b196ce",
   "metadata": {},
   "source": [
    "**3: the number of working hours per week for students (4,6)**"
   ]
  },
  {
   "cell_type": "markdown",
   "id": "04ebd0b4",
   "metadata": {},
   "source": []
  }
 ],
 "metadata": {
  "kernelspec": {
   "display_name": "python(venv)",
   "language": "python",
   "name": "venv"
  },
  "language_info": {
   "codemirror_mode": {
    "name": "ipython",
    "version": 3
   },
   "file_extension": ".py",
   "mimetype": "text/x-python",
   "name": "python",
   "nbconvert_exporter": "python",
   "pygments_lexer": "ipython3",
   "version": "3.12.7"
  }
 },
 "nbformat": 4,
 "nbformat_minor": 5
}
