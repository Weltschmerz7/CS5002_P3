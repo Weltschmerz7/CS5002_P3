{
 "cells": [
  {
   "cell_type": "markdown",
   "id": "super-suspension",
   "metadata": {},
   "source": [
    "<div style=\"display: flex; justify-content: space-between; align-items: center; padding: 10 px;\">\n",
    "    <h3 style=\"margin: 0 0 20px; color: #FFFFFF; line-height: 1\"> CS5002: Programming Principles and Practice</h3>\n",
    "    <img src=\"../rsc/logo.png\" alt=\"University Logo\" style=\"width: 80px; height: auto;\"/>\n",
    "</div>\n",
    "                                  <!--  -->\n",
    "<div style=\"display: flex; justify-content: space-between; width: 100%;\">\n",
    "  <span style=\"text-align: left;\">Practical P3: Data analysis and visualisation Python</span>\n",
    "  <span style=\"text-align: right; font-size: 12px;\">Student ID: 200013825</span>\n",
    "</div> \n"
   ]
  },
  {
   "cell_type": "markdown",
   "id": "5d440feb",
   "metadata": {},
   "source": [
    "### Introduction \n",
    "This project aims to modularly read, clean and analyze real-world csv data. Below is the introduction on all the modules and major functions that worked together to complete data analysis.\n",
    "\n",
    "`data_mining.py`: This executable python \n",
    "script automates data cleaning process, I used \n",
    "```python\n",
    "invalid_mask = ~data[column].isin(valid_set)\n",
    "```\n",
    "to collect a list of booleans, indicating whether each csv code is admissible. \n",
    "\n",
    "Based on the context of this dataset, it is more efficient to neglect the type of the data when checking consistency, and then convert all data into pandas' categorical type. \n",
    "``` python\n",
    "data[column] = data[column].astype(str)\n",
    "```\n",
    "I have converted all column in the data as string to help the determination of admissible values, and checked for missing columns or values, so then if encountered with any missing value, the row will be dropped.\n",
    "\n",
    "To decode the csv data and to give context to the later stages of data analysis, i incorprated the data mapping at the stage of data_mining, so that the **cleaned_data.csv** contains all the code derived from json, with all the data being cleaned. I achieved this step by creating a helper function called **map_data** which takes the data to map as well as the json that was loaded in the **clean_data** function, and use **.map()** to map the data based on json if the column name match wth the json dictionary keys. Below is the logic to map data\n",
    "```python\n",
    "for column in data_to_map.columns:\n",
    "        if column in decode_helper:\n",
    "            data_to_map[column] = data_to_map[column].map(decode_helper[column])\n",
    "```\n",
    "\n",
    "`data_analysis.py`: This module contains function **analyze_data** and compute all the required analysis, then store all output from different requirements as a big dictionaries of dictionaires. This makes the overall workflow modular and clean with minimal repetition. One drawback would be the fact that all the analysis is hard-coded in, and reusability is diminished from this specific feature.\n",
    "\n",
    "There are in total of 12 required data analysis, in the **data_analysis.py**, i have set them as requirements 1-12, and used pandas to analyze. A few analysis will be illustrated below. \n",
    "\n",
    "1. To get the percentage of records for any column, i used:\n",
    "```python\n",
    "column_counts = data['col_name'].value_counts(normalize=True) * 100\n",
    "# then append the result to the big collective dictionary\n",
    "results['requirement n name'] = column_counts.round(2).to_dict()\n",
    "```\n",
    "2. To group two columns together, i used:\n",
    "```python\n",
    "results['requirement n name'] = (data.groupby(['col_1', 'col_2']).size().to_dict())\n",
    "```\n",
    "As shown above, i collect each reqired results and have stored them in one dictionary called results. This helps with further processing and storing, as dictionary can centralize calculated results, and it can store a diverse range of data types.\n",
    "\n",
    "\n"
   ]
  },
  {
   "cell_type": "markdown",
   "id": "4448bcd7",
   "metadata": {},
   "source": [
    "### Problem Encountered\n",
    "\n",
    "##### __1. infinite commit loop__: \n",
    "When I was trying to set up hooks for git to automatically update the gitlog everytime after commit, i accidently created an infinite loop of git commit, below was what I have included in the post-commit* file in .git/hooks:\n",
    "\n",
    "``` python\n",
    "#!/bin/bash\n",
    "git log --oneline  --graph  > gitlog.txt\n",
    "git commit -m 'gitlog.txt is updated with the latest commit history'\n",
    "```\n",
    "and this created redundant git log histroy that are shown in the gitlog.txt\n",
    "\n",
    "I fixed it by deleting the line to commit within post-commit, after i realized that adding commit within post-commit can trigger recursive calls.\n",
    "\n",
    "##### __1. system path append__: \n",
    "When I was trying to append certain relavant path to the sys path in order for jupyter notebook to read the file, i added the file path to sys path. After I print sys.path to check, i saw multiple paths being appended in the system paths, in order to clean this, i imported `site` which is a package that can help clear all custom paths and only keep the default path. I then used \n",
    "```python\n",
    "sys.path = list(site.getsitepackages()) + sys.path [:1]\n",
    "```\n",
    "to implement this strategy. \n",
    "After clearing the system path, i appended the relative path using sys.path.append, and successfully imported the modules from **code** folder. As shown below.\n",
    "```python\n",
    "sys.path.append('./code')\n",
    "```\n",
    "Certain compiled python file was created to help faster import, and such files were added to .gitignore to prevent unncessary commiting and pushing because **\\__pycache__\\** will be created everytime the imported modules are ran.\n",
    "\n",
    "##### __1. html header editing__: \n",
    "When i was trying to create proffesional looking header using html, it worked perfectly in vscode like so:\n",
    "***\n",
    "![Image](../rsc/Jupyter_heading.png)\n",
    "***\n",
    "But when i viewed it in jupyter notebook via jupyter, it did not look that aligned as shown below: \n",
    "\n",
    "![Image](../rsc/Jupyter_heading_notgood.png)\n",
    "\n",
    "\n",
    "\n"
   ]
  },
  {
   "cell_type": "markdown",
   "id": "7071106c",
   "metadata": {},
   "source": [
    "**First Import all the neccessary packages and modules**"
   ]
  },
  {
   "cell_type": "code",
   "execution_count": null,
   "id": "beautiful-hormone",
   "metadata": {},
   "outputs": [
    {
     "data": {
      "text/plain": [
       "{'total_record': 63388, 'data_types': {'record_number': dtype('int64'), 'region': dtype('O'), 'residence_type': dtype('O'), 'family_composition': dtype('O'), 'sex': dtype('O'), 'age': dtype('O'), 'marital_status': dtype('O'), 'student': dtype('O'), 'country_of_birth': dtype('O'), 'health': dtype('O'), 'ethnic_group': dtype('O'), 'religion': dtype('O'), 'economic_activity': dtype('O'), 'occupation': dtype('O'), 'industry': dtype('O'), 'hours_worked_per_week': dtype('O'), 'approximate_social_grade': dtype('O')}, 'value_counts': {'residence_type': {'Not resident in a Communal Establishment': 62239, 'Resident in a Communal Establishment': 1149}, 'family_composition': {'Married/same-sex civil partnership couple family': 33337, 'Not in a family': 11716, 'Lone parent family (female lead)': 7757, 'Cohabiting couple family': 7660, 'residents of a communal establishment': 1149, 'Lone parent family (male head)': 1019, 'Other related family': 750}, 'sex': {'Female': 32696, 'Male': 30692}, 'age': {'0 to 15': 10980, '45 to 54': 9336, '35 to 44': 8963, '25 to 34': 8056, '55 to 64': 7854, '16 to 24': 7541, '65 to 74': 5731, '75 and over': 4927}, 'marital_status': {'Single (Never married or never registered a same-sex civil partnership': 29611, 'Married or in a same sex-civil partnership': 23918, 'Divorced or formerly in a same-sex civil partnership which is now legally dissolved': 4159, 'Widowed or surviving partner from a same-sex civil partnership': 4032, 'Separated, but still legally married or still legally in a same-sex civil partnership': 1668}, 'student': {'No': 51397, 'Yes': 11991}, 'country_of_birth': {'UK': 59045, 'Non UK': 4343}, 'health': {'Very good health': 33436, 'Good health': 18825, 'Fair health': 7544, 'Bad health': 2759, 'Very bad health': 824}, 'ethnic_group': {'White': 60901, 'Asian': 1667, 'African': 376, 'Mixed or multiple ethnic group': 199, 'Other ethnic group': 165, 'Caribbean or black': 80}, 'religion': {'Christian': 34199, 'No religion': 23309, 'Not stated': 4335, 'Muslim': 906, 'Hindu': 187, 'Other religion': 162, 'Sikh': 116, 'Buddhist': 113, 'Jewish': 61}, 'economic_activity': {'Economically active: Employed': 25350, 'Economically inactive: Retired': 11527, 'Aged under 16': 10980, 'Economically active: Self-Employed': 3623, 'Economically inactive: Student': 2691, 'Economically inactive: Long-term sick or disabled': 2543, 'Economically active: Unemployed': 2183, 'Economically active: Full-time student': 1743, 'Economically inactive: Looking after home or family': 1741, 'Economically inactive: Other': 1007}, 'occupation': {'People aged under 16 and people who have never worked': 14435, 'Elementary Occupations': 7256, 'Professional Occupations': 7237, 'Skilled Trades Occupations': 6140, 'Administrative and Secretarial Occupations': 6010, 'Associate Professional and Technical Occupations': 5015, 'Sales and Customer Service Occupations': 4934, 'Caring, Leisure and Other Service Occupations': 4484, 'Process, Plant and Machine Operatives': 4327, 'Managers, Directors and Senior Officials': 3550}, 'industry': {'People aged under 16 and people who have never worked': 14435, 'Wholesale and retail trade; Repair of motor vehicles and motorcycles': 7557, 'Human health and social work activities': 6817, 'Mining and quarrying; Manufacturing; Electricity, gas, steam and air conditioning system; Water supply': 6318, 'Real estate activities; Professional scientific and technical activities; Administrative and support service activities': 4818, 'Education': 4123, 'Construction': 3876, 'Transport and storage; Information and communication': 3754, 'Accommodation and food service activities': 3309, 'Public administration and defence': 3225, 'Financial and insurance activities': 1979, 'Other': 1172, 'Arts; entertainment and recreation': 1107, 'Agriculture, forestry and fishing': 898}, 'hours_worked_per_week': {'People aged under 16 and people not working': 32851, 'Full-time: 31 to 48 hours worked': 18333, 'Part-time: 16 to 30 hours worked': 6518, 'Full-time 49 or more hours worked': 3543, 'Part-time: 15 or less hours worked': 2143}, 'approximate_social_grade': {'C1': 15607, 'DE': 14709, 'People aged under 16 and people resident in communal establishments': 12090, 'C2': 11602, 'AB': 9380}}, 'age_count': {'0 to 15': 10980, '45 to 54': 9336, '35 to 44': 8963, '25 to 34': 8056, '55 to 64': 7854, '16 to 24': 7541, '65 to 74': 5731, '75 and over': 4927}, 'occupation_counts': {'People aged under 16 and people who have never worked': 14435, 'Elementary Occupations': 7256, 'Professional Occupations': 7237, 'Skilled Trades Occupations': 6140, 'Administrative and Secretarial Occupations': 6010, 'Associate Professional and Technical Occupations': 5015, 'Sales and Customer Service Occupations': 4934, 'Caring, Leisure and Other Service Occupations': 4484, 'Process, Plant and Machine Operatives': 4327, 'Managers, Directors and Senior Officials': 3550}, 'health_percentages': {'Very good health': 52.75, 'Good health': 29.7, 'Fair health': 11.9, 'Bad health': 4.35, 'Very bad health': 1.3}, 'ethnic_group_percentages': {'White': 96.08, 'Asian': 2.63, 'African': 0.59, 'Mixed or multiple ethnic group': 0.31, 'Other ethnic group': 0.26, 'Caribbean or black': 0.13}, 'hours_worked_by_industry': {('Full-time 49 or more hours worked', 'Accommodation and food service activities'): 230, ('Full-time 49 or more hours worked', 'Agriculture, forestry and fishing'): 258, ('Full-time 49 or more hours worked', 'Arts; entertainment and recreation'): 57, ('Full-time 49 or more hours worked', 'Construction'): 427, ('Full-time 49 or more hours worked', 'Education'): 253, ('Full-time 49 or more hours worked', 'Financial and insurance activities'): 117, ('Full-time 49 or more hours worked', 'Human health and social work activities'): 184, ('Full-time 49 or more hours worked', 'Mining and quarrying; Manufacturing; Electricity, gas, steam and air conditioning system; Water supply'): 559, ('Full-time 49 or more hours worked', 'Other'): 60, ('Full-time 49 or more hours worked', 'Public administration and defence'): 130, ('Full-time 49 or more hours worked', 'Real estate activities; Professional scientific and technical activities; Administrative and support service activities'): 425, ('Full-time 49 or more hours worked', 'Transport and storage; Information and communication'): 432, ('Full-time 49 or more hours worked', 'Wholesale and retail trade; Repair of motor vehicles and motorcycles'): 411, ('Full-time: 31 to 48 hours worked', 'Accommodation and food service activities'): 738, ('Full-time: 31 to 48 hours worked', 'Agriculture, forestry and fishing'): 191, ('Full-time: 31 to 48 hours worked', 'Arts; entertainment and recreation'): 354, ('Full-time: 31 to 48 hours worked', 'Construction'): 1801, ('Full-time: 31 to 48 hours worked', 'Education'): 1377, ('Full-time: 31 to 48 hours worked', 'Financial and insurance activities'): 1048, ('Full-time: 31 to 48 hours worked', 'Human health and social work activities'): 2591, ('Full-time: 31 to 48 hours worked', 'Mining and quarrying; Manufacturing; Electricity, gas, steam and air conditioning system; Water supply'): 2533, ('Full-time: 31 to 48 hours worked', 'Other'): 362, ('Full-time: 31 to 48 hours worked', 'Public administration and defence'): 1592, ('Full-time: 31 to 48 hours worked', 'Real estate activities; Professional scientific and technical activities; Administrative and support service activities'): 1936, ('Full-time: 31 to 48 hours worked', 'Transport and storage; Information and communication'): 1555, ('Full-time: 31 to 48 hours worked', 'Wholesale and retail trade; Repair of motor vehicles and motorcycles'): 2255, ('Part-time: 15 or less hours worked', 'Accommodation and food service activities'): 331, ('Part-time: 15 or less hours worked', 'Agriculture, forestry and fishing'): 21, ('Part-time: 15 or less hours worked', 'Arts; entertainment and recreation'): 103, ('Part-time: 15 or less hours worked', 'Construction'): 44, ('Part-time: 15 or less hours worked', 'Education'): 230, ('Part-time: 15 or less hours worked', 'Financial and insurance activities'): 34, ('Part-time: 15 or less hours worked', 'Human health and social work activities'): 259, ('Part-time: 15 or less hours worked', 'Mining and quarrying; Manufacturing; Electricity, gas, steam and air conditioning system; Water supply'): 58, ('Part-time: 15 or less hours worked', 'Other'): 83, ('Part-time: 15 or less hours worked', 'Public administration and defence'): 59, ('Part-time: 15 or less hours worked', 'Real estate activities; Professional scientific and technical activities; Administrative and support service activities'): 230, ('Part-time: 15 or less hours worked', 'Transport and storage; Information and communication'): 72, ('Part-time: 15 or less hours worked', 'Wholesale and retail trade; Repair of motor vehicles and motorcycles'): 619, ('Part-time: 16 to 30 hours worked', 'Accommodation and food service activities'): 635, ('Part-time: 16 to 30 hours worked', 'Agriculture, forestry and fishing'): 49, ('Part-time: 16 to 30 hours worked', 'Arts; entertainment and recreation'): 183, ('Part-time: 16 to 30 hours worked', 'Construction'): 166, ('Part-time: 16 to 30 hours worked', 'Education'): 661, ('Part-time: 16 to 30 hours worked', 'Financial and insurance activities'): 224, ('Part-time: 16 to 30 hours worked', 'Human health and social work activities'): 1518, ('Part-time: 16 to 30 hours worked', 'Mining and quarrying; Manufacturing; Electricity, gas, steam and air conditioning system; Water supply'): 201, ('Part-time: 16 to 30 hours worked', 'Other'): 225, ('Part-time: 16 to 30 hours worked', 'Public administration and defence'): 328, ('Part-time: 16 to 30 hours worked', 'Real estate activities; Professional scientific and technical activities; Administrative and support service activities'): 639, ('Part-time: 16 to 30 hours worked', 'Transport and storage; Information and communication'): 371, ('Part-time: 16 to 30 hours worked', 'Wholesale and retail trade; Repair of motor vehicles and motorcycles'): 1318, ('People aged under 16 and people not working', 'Accommodation and food service activities'): 1375, ('People aged under 16 and people not working', 'Agriculture, forestry and fishing'): 379, ('People aged under 16 and people not working', 'Arts; entertainment and recreation'): 410, ('People aged under 16 and people not working', 'Construction'): 1438, ('People aged under 16 and people not working', 'Education'): 1602, ('People aged under 16 and people not working', 'Financial and insurance activities'): 556, ('People aged under 16 and people not working', 'Human health and social work activities'): 2265, ('People aged under 16 and people not working', 'Mining and quarrying; Manufacturing; Electricity, gas, steam and air conditioning system; Water supply'): 2967, ('People aged under 16 and people not working', 'Other'): 442, ('People aged under 16 and people not working', 'People aged under 16 and people who have never worked'): 14435, ('People aged under 16 and people not working', 'Public administration and defence'): 1116, ('People aged under 16 and people not working', 'Real estate activities; Professional scientific and technical activities; Administrative and support service activities'): 1588, ('People aged under 16 and people not working', 'Transport and storage; Information and communication'): 1324, ('People aged under 16 and people not working', 'Wholesale and retail trade; Repair of motor vehicles and motorcycles'): 2954}, 'occupation_by_social_grade': {('Administrative and Secretarial Occupations', 'AB'): 707, ('Administrative and Secretarial Occupations', 'C1'): 3883, ('Administrative and Secretarial Occupations', 'C2'): 816, ('Administrative and Secretarial Occupations', 'DE'): 538, ('Administrative and Secretarial Occupations', 'People aged under 16 and people resident in communal establishments'): 66, ('Associate Professional and Technical Occupations', 'AB'): 933, ('Associate Professional and Technical Occupations', 'C1'): 3336, ('Associate Professional and Technical Occupations', 'C2'): 377, ('Associate Professional and Technical Occupations', 'DE'): 280, ('Associate Professional and Technical Occupations', 'People aged under 16 and people resident in communal establishments'): 89, ('Caring, Leisure and Other Service Occupations', 'AB'): 324, ('Caring, Leisure and Other Service Occupations', 'C1'): 897, ('Caring, Leisure and Other Service Occupations', 'C2'): 1530, ('Caring, Leisure and Other Service Occupations', 'DE'): 1679, ('Caring, Leisure and Other Service Occupations', 'People aged under 16 and people resident in communal establishments'): 54, ('Elementary Occupations', 'AB'): 247, ('Elementary Occupations', 'C1'): 933, ('Elementary Occupations', 'C2'): 1196, ('Elementary Occupations', 'DE'): 4675, ('Elementary Occupations', 'People aged under 16 and people resident in communal establishments'): 205, ('Managers, Directors and Senior Officials', 'AB'): 1413, ('Managers, Directors and Senior Officials', 'C1'): 1686, ('Managers, Directors and Senior Officials', 'C2'): 213, ('Managers, Directors and Senior Officials', 'DE'): 192, ('Managers, Directors and Senior Officials', 'People aged under 16 and people resident in communal establishments'): 46, ('People aged under 16 and people who have never worked', 'AB'): 320, ('People aged under 16 and people who have never worked', 'C1'): 830, ('People aged under 16 and people who have never worked', 'C2'): 460, ('People aged under 16 and people who have never worked', 'DE'): 1525, ('People aged under 16 and people who have never worked', 'People aged under 16 and people resident in communal establishments'): 11300, ('Process, Plant and Machine Operatives', 'AB'): 98, ('Process, Plant and Machine Operatives', 'C1'): 367, ('Process, Plant and Machine Operatives', 'C2'): 1619, ('Process, Plant and Machine Operatives', 'DE'): 2183, ('Process, Plant and Machine Operatives', 'People aged under 16 and people resident in communal establishments'): 60, ('Professional Occupations', 'AB'): 4739, ('Professional Occupations', 'C1'): 1670, ('Professional Occupations', 'C2'): 465, ('Professional Occupations', 'DE'): 289, ('Professional Occupations', 'People aged under 16 and people resident in communal establishments'): 74, ('Sales and Customer Service Occupations', 'AB'): 381, ('Sales and Customer Service Occupations', 'C1'): 1393, ('Sales and Customer Service Occupations', 'C2'): 870, ('Sales and Customer Service Occupations', 'DE'): 2172, ('Sales and Customer Service Occupations', 'People aged under 16 and people resident in communal establishments'): 118, ('Skilled Trades Occupations', 'AB'): 218, ('Skilled Trades Occupations', 'C1'): 612, ('Skilled Trades Occupations', 'C2'): 4056, ('Skilled Trades Occupations', 'DE'): 1176, ('Skilled Trades Occupations', 'People aged under 16 and people resident in communal establishments'): 78}, 'economically_active_by_age': {'16 to 24': 4859, '25 to 34': 6878, '35 to 44': 7639, '45 to 54': 7868, '55 to 64': 4745, '65 to 74': 784, '75 and over': 126}, 'economically_inactive_by_health': {'Bad health': 2344, 'Fair health': 4952, 'Good health': 6172, 'Very bad health': 738, 'Very good health': 5303}, 'working_hours_for_students': {'Full-time 49 or more hours worked': 38, 'Full-time: 31 to 48 hours worked': 244, 'Part-time: 15 or less hours worked': 792, 'Part-time: 16 to 30 hours worked': 490, 'People aged under 16 and people not working': 2870}}\n"
      ]
     },
     "metadata": {},
     "output_type": "display_data"
    }
   ],
   "source": [
    "import json\n",
    "import pandas as pd\n",
    "import sys\n",
    "\n",
    "sys.path.append('./code')\n",
    "from data_analysis import analyze_csv\n",
    "\n",
    "analyze_csv('./data/cleaned_data.csv')\n",
    "\n",
    "\n",
    "# print(results_dict['data_types'])\n",
    "\n",
    "\n"
   ]
  }
 ],
 "metadata": {
  "kernelspec": {
   "display_name": "Python 3 (ipykernel)",
   "language": "python",
   "name": "python3"
  },
  "language_info": {
   "codemirror_mode": {
    "name": "ipython",
    "version": 3
   },
   "file_extension": ".py",
   "mimetype": "text/x-python",
   "name": "python",
   "nbconvert_exporter": "python",
   "pygments_lexer": "ipython3",
   "version": "3.12.7"
  }
 },
 "nbformat": 4,
 "nbformat_minor": 5
}
